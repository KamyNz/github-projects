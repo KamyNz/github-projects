{
 "cells": [
  {
   "cell_type": "markdown",
   "metadata": {},
   "source": [
    "## Processing Informe Intersemestral"
   ]
  },
  {
   "cell_type": "code",
   "execution_count": 1,
   "metadata": {},
   "outputs": [],
   "source": [
    "import docx \n",
    "import docx2txt\n",
    "import sys, os\n",
    "import pandas as pd\n",
    "import re"
   ]
  },
  {
   "cell_type": "code",
   "execution_count": 3,
   "metadata": {},
   "outputs": [],
   "source": [
    "#Importing files\n",
    "pathDir = \"/home/asisbio2/Documents/Python/work/01_runDocxOverDocuments/data/Informe6/\"\n",
    "os.chdir(pathDir)\n",
    "fileName = \"Informe6.docx\""
   ]
  },
  {
   "cell_type": "code",
   "execution_count": 4,
   "metadata": {},
   "outputs": [
    {
     "data": {
      "text/plain": [
       "'/home/asisbio2/Documents/Python/work/01_runDocxOverDocuments/data/Informe6/Informe6.docx'"
      ]
     },
     "execution_count": 4,
     "metadata": {},
     "output_type": "execute_result"
    }
   ],
   "source": [
    "pathDir+fileName"
   ]
  },
  {
   "cell_type": "code",
   "execution_count": 5,
   "metadata": {},
   "outputs": [],
   "source": [
    "document = docx.Document(pathDir+fileName)\n",
    "#text = docx2txt.process(pathDir+\"Test1.docx\")"
   ]
  },
  {
   "cell_type": "code",
   "execution_count": 7,
   "metadata": {},
   "outputs": [],
   "source": [
    "def no_in_article_list(listTest):\n",
    "    import string\n",
    "    listMini = []\n",
    "    for element in listTest:\n",
    "        element = element.strip()\n",
    "        element = element.translate(string.maketrans(\"\",\"\"),string.punctuation)\n",
    "        if(len(element) !=0 and len(element) !=1):\n",
    "            if((element in listArticles)==False and (element in listNumberInSpanish)==False):\n",
    "                try:\n",
    "                    tempInt = float(element)\n",
    "                except ValueError:\n",
    "                    listMini.append(element)\n",
    "    return listMini"
   ]
  },
  {
   "cell_type": "code",
   "execution_count": 8,
   "metadata": {
    "scrolled": true
   },
   "outputs": [
    {
     "name": "stdout",
     "output_type": "stream",
     "text": [
      "6\n"
     ]
    }
   ],
   "source": [
    "print len(document.sections)\n",
    "sections  = document.sections"
   ]
  },
  {
   "cell_type": "code",
   "execution_count": 9,
   "metadata": {},
   "outputs": [],
   "source": [
    "# List of spanish articles\n",
    "listArticles = ['incluso', 'menor', 'd:','hacia','manera','estos',\n",
    " 'mayor','otro','antes','sumando','la','lo','otra','aun',\n",
    " 'hay','mediante','segmento','fin','formas','sobre','asimismo',\n",
    " 'ya','lado','de','tanto','a\\xc3\\xban','d','colmo','m\\xc3\\xa1s','p','desde',\n",
    " 'tras','modo','el','en','cabo','tambi\\xc3\\xa9n','j.','versus',\n",
    "'todo','es','+','bien','fue','estas','esa','eso','e)','encima','v\\xc3\\xada','que',\n",
    " 'como','aunque','of','ahora','o','una','misma','(','mismo',\n",
    " 'despu\\xc3\\xa9s','con','este','por','durante','son','cada',\n",
    " 'donde','ante','otros','igual','tabla','proyecto:','unas',\n",
    " 'log','&','esas','pero','contra','todas','todav\\xc3\\xada','los',\n",
    "'tomen','para','subproyecto:','seg\\xc3\\xban','bajo','ha','iii','embargo',\n",
    " 'f','caso','planta','un','del','tampoco','and','al.','figura','unos',\n",
    " 'esta','esto','al','%','parte','no',')','fueron',\n",
    " 'cual','=','sin','tiempo','adem\\xc3\\xa1s','contraste','cualquier',\n",
    " 'las','a','igualmente','e','entre','aparte','su','hasta','si',\n",
    " 'cambio','y','quebien','uno','se',\"mismas\",\"mismos\",\"dan\",\"actual\",\"ningún\",\n",
    "\"muchas\",\"cuando\",\"cual\",\"cuales\",\"et\",\"tiene\",\"solo\",\"in\",\"muy\",\"observa\",\"obtenido\",\"obtenidos\",\n",
    "\"puede\",\"respecto\",\"mientras\",\"utilizando\",\"ellos\",\"ir\",\"vez\",\"hace\"]\n",
    "                         \n",
    "\n",
    "listNumberInSpanish=[\"uno\",\"dos\",\"tres\",\"cuatro\",\"cinco\",\"seis\",\"siete\",\"ocho\",\"nueve\",\"diez\"]\n"
   ]
  },
  {
   "cell_type": "code",
   "execution_count": 10,
   "metadata": {},
   "outputs": [],
   "source": [
    "l_key_words_informes = [\"correlación\",\"manejo\",\"objetivo\",\"conclusión\",\n",
    "                       \"tecnica\",\"experimento\",\"susceptibilidad\",\"precisión\",\n",
    "                       \"expuesto\",\"establece\",\"evidentemente\",\"discusión\",\"clasificación\",\n",
    "                       \"quemas\",\"influencia\",\"producción\",\"resultados\"]\n",
    "\n",
    "l_key_words_informes2 = [\"objetivo\",\"conclusion\",\n",
    "                       \"tecnica\",\"experimento\"]"
   ]
  },
  {
   "cell_type": "code",
   "execution_count": 11,
   "metadata": {},
   "outputs": [],
   "source": [
    "l_suggested_words = [\"barrenar\",\"buffer\",\"foliar\",\"hormonagro\",\n",
    "                     \"ecotipo\",\"ligula\",\"manitol\",\"vitis\",\"fenolicos\",\"callus\",\n",
    "                     \"follaje\",\"sorbitol\",\"afroz\",\"sorbitol\",\"conductividad\",\n",
    "                    \"volcamiento\",\"citoquina\",\"heredabilidad\",\"hstoquimica\",\"fenotipica\",\n",
    "                    \"escaldadura\",\"exuvias\",\"scbv\",\"explantes\",\"biorad\",\"pupas\",\"scylv\",\n",
    "                     \"medula\",\"rsd\",\"fenolizacion\",\"esd\",\"aligomero\"]"
   ]
  },
  {
   "cell_type": "markdown",
   "metadata": {
    "collapsed": true
   },
   "source": [
    "## Functions to process Informe Intersemenstral"
   ]
  },
  {
   "cell_type": "code",
   "execution_count": 12,
   "metadata": {},
   "outputs": [],
   "source": [
    "def getting_context_word(paragraph_text,l_suggested,idx,setSet):\n",
    "    for searchre in l_suggested:\n",
    "        #Looking for suggested word and geting context\n",
    "        if(re.search(searchre,paragraph_text,re.IGNORECASE)):\n",
    "            if(idx not in setSet):\n",
    "                objTemp = paragraph_text.encode('utf-8')\n",
    "                setSet.add(idx)\n",
    "                #print \"\\n\",objTemp,\"\\n\"\n",
    "                print \"\\n &&&\", objTemp,\" && \\n\""
   ]
  },
  {
   "cell_type": "code",
   "execution_count": 13,
   "metadata": {},
   "outputs": [],
   "source": [
    "def getting_genotype_name_complete(string_text):\n",
    "    list_split = string_text.split()\n",
    "    # List Comprehesion, How to find all occurrences of an element in a list?\n",
    "    index_CC = [i for i,val in enumerate(list_split) if val==\"CC\"]\n",
    "    #print index_CC\n",
    "    final_list_CC_genotypes4 = []\n",
    "    \n",
    "    if(len(index_CC) != 0):\n",
    "        # other list comprehesion\n",
    "        new_list_index_CC = [i+1 for i in index_CC]\n",
    "        # Access multiple elements of list knowing their index\n",
    "        from operator import itemgetter\n",
    "\n",
    "        #print itemgetter(*index_CC)(list_split)\n",
    "        list_CC_genotypes = itemgetter(*new_list_index_CC)(list_split)\n",
    "       \n",
    "        final_list_CC_genotypes1 = [i.replace(\".\",\"\") for i in list_CC_genotypes]\n",
    "        final_list_CC_genotypes2= [i.replace(\",\",\"\") for i in final_list_CC_genotypes1]\n",
    "        final_list_CC_genotypes3= [i.replace(\";\",\"\") for i in final_list_CC_genotypes2]\n",
    "        final_list_CC_genotypes4= [i.replace(\")\",\"\") for i in final_list_CC_genotypes3]\n",
    "\n",
    "    return(final_list_CC_genotypes4)"
   ]
  },
  {
   "cell_type": "code",
   "execution_count": 14,
   "metadata": {},
   "outputs": [],
   "source": [
    "def getting_Cole_or_cole_name_complete(string_text):\n",
    "    list_split = string_text.split()\n",
    "    # List Comprehesion, How to find all occurrences of an element in a list?\n",
    "    index_Cole_or_cole = [i for i,val in enumerate(list_split) if val==\"Colección\" or val==\"colección\"]\n",
    "    final_list_Cole_cole_genotypes4 = []\n",
    "    \n",
    "    if(len(index_Cole_or_cole) != 0):\n",
    "        \n",
    "        # other list comprehesion\n",
    "        new_list_index_Cole_cole = [i+1 for i in index_Cole_or_cole]\n",
    "        \n",
    "        # Access multiple elements of list knowing their index\n",
    "        from operator import itemgetter\n",
    "        #print itemgetter(*index_CC)(list_split)\n",
    "        list_Cole_cole_genotypes = itemgetter(*new_list_index_Cole_cole)(list_split)\n",
    "        \n",
    "        final_list_Cole_cole_genotypes1 = [i.replace(\".\",\"\") for i in list_Cole_cole_genotypes]\n",
    "        final_list_Cole_cole_genotypes2= [i.replace(\",\",\"\") for i in final_list_Cole_cole_genotypes1]\n",
    "        final_list_Cole_cole_genotypes3= [i.replace(\";\",\"\") for i in final_list_Cole_cole_genotypes2]\n",
    "        final_list_Cole_cole_genotypes4= [i.replace(\")\",\"\") for i in final_list_Cole_cole_genotypes3]\n",
    "        \n",
    "    return(final_list_Cole_cole_genotypes4)"
   ]
  },
  {
   "cell_type": "code",
   "execution_count": 16,
   "metadata": {},
   "outputs": [],
   "source": [
    "def getting_list_of_testigos_dado_parametro(string_text,param_text):\n",
    "\n",
    "    list_split = string_text.split()\n",
    "    \n",
    "    if(param_text.endswith(\"s\")):\n",
    "        # List Comprehesion, How to find all occurrences of an element in a list?\n",
    "        index_plural_by_param_text = [i for i,val in enumerate(list_split) if val==\"testigos \"+str(param_text)]\n",
    "    else:\n",
    "        # List Comprehesion, How to find all occurrences of an element in a list?\n",
    "        index_singular_by_param_text = [i for i,val in enumerate(list_split) if val==\"testigo \"+str(param_text)]\n",
    "    \n",
    "    \n",
    "    if(len(index_plural_by_param_text) != 0):\n",
    "        \n",
    "        print list_split[index_plural_by_param_text]\n",
    "    "
   ]
  },
  {
   "cell_type": "code",
   "execution_count": 17,
   "metadata": {},
   "outputs": [],
   "source": [
    "def find_all(a_str, sub):\n",
    "    start = 0\n",
    "    while True:\n",
    "        start = a_str.find(sub, start)\n",
    "        if start == -1: return\n",
    "        yield start\n",
    "        start += len(sub)"
   ]
  },
  {
   "cell_type": "markdown",
   "metadata": {},
   "source": [
    "## Processing Word File"
   ]
  },
  {
   "cell_type": "code",
   "execution_count": 34,
   "metadata": {},
   "outputs": [],
   "source": [
    "# To get file with small summary of projects, subprojects, details\n",
    "# and figures \n",
    "orig_stdout = sys.stdout\n",
    "f = open(pathDir+\"summaryInformeTrimestral_Informe6-Test2_with_both_options.txt\",'w')\n",
    "sys.stdout = f"
   ]
  },
  {
   "cell_type": "code",
   "execution_count": 35,
   "metadata": {},
   "outputs": [],
   "source": [
    "#for idx, paragraph in enumerate(document.paragraphs):\n",
    "#    if(idx in setTest):\n",
    "#        print idx, \" in set\"\n",
    "#    else:\n",
    "#        print idx, paragraph.text"
   ]
  },
  {
   "cell_type": "code",
   "execution_count": 36,
   "metadata": {
    "scrolled": true
   },
   "outputs": [],
   "source": [
    "listAllWords = []\n",
    "big_list_genotypes_CC = list()\n",
    "positionAlreadyHit = set()\n",
    "for idx, paragraph in enumerate(document.paragraphs):\n",
    "    #print type(paragraph.text), paragraph.text.find(\"PROGRAMA\"), paragraph.text.find(\"Proyecto\")\n",
    "    \n",
    "    #if(len(paragraph.text) ==0):\n",
    "    #    print \"NULL\", paragraph.text\n",
    "    \n",
    "    if(paragraph.text.find(\"REFERENCIAS BIBLIOGRAFICAS\")==0):\n",
    "        print \"--- Break loop ---\"\n",
    "        break\n",
    "    else:\n",
    "        if(len(paragraph.text)!=0):\n",
    "            # Para saber programa\n",
    "            if(paragraph.text.find(\"PROGRAMA\")==0):\n",
    "                print paragraph.text.decode('utf-8')\n",
    "                #str(paragraph.text).lower().split(\" \")\n",
    "                #element = no_in_article_list(str(paragraph.text).lower().split(\" \"))\n",
    "                #print element\n",
    "                #listAllWords.append(element)\n",
    "\n",
    "            # Para mejoramiento\n",
    "            if(paragraph.text.find(\"MEJORAMIENTO\")==0 or paragraph.text.find(\"Mejoramiento\")==0):\n",
    "                objTemp = paragraph.text.encode('utf-8')\n",
    "                print \"\\n\",\"------------------------------------------------------------------------------------\",\"\\n\"\n",
    "                print \"%%%\", objTemp\n",
    "                #,str(objTemp).lower().split(\" \")\n",
    "\n",
    "            # Para fitopatologia\n",
    "            if(paragraph.text.find(\"FITOPATOLOGIA\")==0 or paragraph.text.find(\"Fitopatologia\")==0):\n",
    "                objTemp = paragraph.text.encode('utf-8')\n",
    "                print \"\\n\",\"------------------------------------------------------------------------------------\",\"\\n\"\n",
    "                print \"%%%\", objTemp\n",
    "                #,str(objTemp).lower().split(\" \")\n",
    "\n",
    "            # Para saber servicios dentro de fitopatologia\n",
    "            if(paragraph.text.find(\"SERVICIO\")==0 or paragraph.text.find(\"Servicio\")==0):\n",
    "                objTemp = paragraph.text.encode('utf-8')\n",
    "                print objTemp\n",
    "                \n",
    "            # Para saber servicios dentro de fitopatologia\n",
    "            if(paragraph.text.find(\"DIAGNOSTICO\")==0 or paragraph.text.find(\"Diagnostico\")==0):\n",
    "                objTemp = paragraph.text.encode('utf-8')\n",
    "                print objTemp\n",
    "\n",
    "            # Para saber servicios dentro de fitopatologia\n",
    "            if(paragraph.text.find(\"ENTOMOLOGIA\")==0 or paragraph.text.find(\"Entomologia\")==0):\n",
    "                objTemp = paragraph.text.encode('utf-8')\n",
    "                print \"\\n\",\"------------------------------------------------------------------------------------\",\"\\n\"\n",
    "                print \"%%%\",objTemp\n",
    "\n",
    "            # Para saber servicios dentro de fitopatologia\n",
    "            if(paragraph.text.find(\"BIOTECNOLOGIA\")==0 or paragraph.text.find(\"Biotecnologia\")==0):\n",
    "                objTemp = paragraph.text.encode('utf-8')\n",
    "                print \"\\n\",\"------------------------------------------------------------------------------------\",\"\\n\"\n",
    "                print \"%%%\",objTemp\n",
    "\n",
    "            # Para saber sobre Figuras\n",
    "            if(paragraph.text.find(\"Figura\")==0):\n",
    "                objTemp = paragraph.text.encode('utf-8')\n",
    "                print objTemp\n",
    "            # Para saber sobre Tabla\n",
    "            if(paragraph.text.find(\"Tabla\")==0):\n",
    "                objTemp = paragraph.text.encode('utf-8')\n",
    "                print objTemp\n",
    "            # Para saber sobre Tabla\n",
    "            if(paragraph.text.find(\"Cuadro\")==0):\n",
    "                objTemp = paragraph.text.encode('utf-8')\n",
    "                print objTemp\n",
    "            # Para saber nombres de proyectos\n",
    "            if(paragraph.text.find(\"Proyecto\")==0):\n",
    "                objTemp = paragraph.text.encode('utf-8')\n",
    "                print objTemp\n",
    "            # Para saber nombres de subproyectos\n",
    "            if(paragraph.text.find(\"SubProyecto\")==0):\n",
    "                objTemp = paragraph.text.encode('utf-8')\n",
    "                print objTemp\n",
    "            \n",
    "            # Para saber nombres de subproyectos\n",
    "            if(paragraph.text.find(\"PasoClave\")==0):\n",
    "                objTemp = paragraph.text.encode('utf-8')\n",
    "                print objTemp\n",
    "                \n",
    "            # Para saber servicios dentro de fitopatologia\n",
    "            if(paragraph.text.find(\"D:\")==0):\n",
    "                objTemp = paragraph.text.encode('utf-8')\n",
    "                print objTemp\n",
    "            # Para saber sobre observaciones generales\n",
    "            if(paragraph.text.find(\"Observaciones generales\")==0):\n",
    "                objTemp = paragraph.text.encode('utf-8')\n",
    "                print objTemp\n",
    "            # Para saber sobre actividades futuras\n",
    "            if(paragraph.text.find(\"Actividades futuras\")==0):\n",
    "                objTemp = paragraph.text.encode('utf-8')\n",
    "                print objTemp\n",
    "                \n",
    "            getting_genotype_name_complete(paragraph.text)\n",
    "            \n",
    "            # Looking for word\n",
    "            getting_context_word(paragraph.text,l_key_words_informes,idx,positionAlreadyHit)\n",
    "\n",
    "            listTemp = no_in_article_list(str(paragraph.text.encode('utf-8')).lower().split(\" \"))\n",
    "\n",
    "            listAllWords.append(listTemp)\n",
    "            \n",
    "            # List genotypes CC\n",
    "            temp_list = getting_genotype_name_complete(paragraph.text.encode('utf-8'))\n",
    "            big_list_genotypes_CC.extend(temp_list)\n",
    "    #print paragraph.text\n",
    "    #print str(paragraph.text).lower().split(\" \")"
   ]
  },
  {
   "cell_type": "code",
   "execution_count": 38,
   "metadata": {
    "scrolled": false
   },
   "outputs": [],
   "source": [
    "dict_CC_final_with_Coleccion = dict((i, big_list_genotypes_CC.count(i)) for i in set(big_list_genotypes_CC))"
   ]
  },
  {
   "cell_type": "code",
   "execution_count": 39,
   "metadata": {},
   "outputs": [],
   "source": [
    "for key in dict_CC_final_with_Coleccion.keys():\n",
    "    if(len(key) <=3):\n",
    "        dict_CC_final_with_Coleccion.pop(key,None)    "
   ]
  },
  {
   "cell_type": "code",
   "execution_count": 40,
   "metadata": {},
   "outputs": [],
   "source": [
    "import pprint\n",
    "\n",
    "pprint.pprint(dict_CC_final_with_Coleccion)"
   ]
  },
  {
   "cell_type": "code",
   "execution_count": 41,
   "metadata": {},
   "outputs": [],
   "source": [
    "sys.stdout = orig_stdout\n",
    "f.close()"
   ]
  }
 ],
 "metadata": {
  "kernelspec": {
   "display_name": "Python 2",
   "language": "python",
   "name": "python2"
  },
  "language_info": {
   "codemirror_mode": {
    "name": "ipython",
    "version": 2
   },
   "file_extension": ".py",
   "mimetype": "text/x-python",
   "name": "python",
   "nbconvert_exporter": "python",
   "pygments_lexer": "ipython2",
   "version": "2.7.15"
  }
 },
 "nbformat": 4,
 "nbformat_minor": 2
}
